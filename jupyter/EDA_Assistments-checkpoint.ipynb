{
 "cells": [
  {
   "cell_type": "code",
   "execution_count": null,
   "metadata": {},
   "outputs": [],
   "source": [
    "import numpy as np\n",
    "import pandas as pd \n",
    "import os"
   ]
  },
  {
   "cell_type": "code",
   "execution_count": null,
   "metadata": {},
   "outputs": [],
   "source": [
    "os.listdir('../data'),os.listdir('../data/assistment2009/')"
   ]
  },
  {
   "cell_type": "code",
   "execution_count": null,
   "metadata": {},
   "outputs": [],
   "source": [
    "# train = pd.read_csv(r'C:\\Users\\wangxin\\Desktop\\研一\\代码\\DKT_DT\\input\\data\\Assistments\\utf-8_data\\skill_builder_data.csv')"
   ]
  },
  {
   "cell_type": "code",
   "execution_count": null,
   "metadata": {},
   "outputs": [],
   "source": [
    "import sklearn as skl\n",
    "from sklearn.preprocessing import LabelEncoder\n",
    "import tqdm"
   ]
  },
  {
   "cell_type": "code",
   "execution_count": null,
   "metadata": {},
   "outputs": [],
   "source": [
    "# def te():\n",
    "train = pd.read_csv('../data/assistment2009/skill_builder_data.csv')\n",
    "useful_features = ['user_id', 'problem_id','skill_id', 'correct']\n",
    "train = train[useful_features]\n",
    "lbcdr = LabelEncoder()\n",
    "lbcdr.fit(train['user_id'])\n",
    "\n",
    "train['user_id'] = lbcdr.transform(train['user_id'])\n",
    "train['user_id']"
   ]
  },
  {
   "cell_type": "code",
   "execution_count": null,
   "metadata": {},
   "outputs": [],
   "source": [
    "lbcdr.fit(train['problem_id'])\n",
    "train['problem_id'] = lbcdr.transform(train['problem_id'])\n",
    "a=train['problem_id']\n",
    "# b=set(a)\n",
    "# print(a)\n",
    "# print(b)"
   ]
  },
  {
   "cell_type": "code",
   "execution_count": null,
   "metadata": {},
   "outputs": [],
   "source": [
    "# train['user_id'] = lbcdr.transform(train['user_id'])\n",
    "train['skill_id'] = train['skill_id'].fillna(-1)\n",
    "lbcdr.fit(train['skill_id'])\n",
    "train['skill_id'] = lbcdr.transform(train['skill_id'])\n",
    "# a=train['skill_id']\n",
    "# b=set(a)\n",
    "# print(b)\n"
   ]
  },
  {
   "cell_type": "code",
   "execution_count": 21,
   "metadata": {},
   "outputs": [],
   "source": [
    "user_sk_pro_cor=pd.DataFrame([train['user_id'],train['problem_id'],train['correct']])\n",
    "# user_sk_pro_cor=pd.DataFrame(user_sk_pro_cor)\n",
    "user_sk_pro_cor=user_sk_pro_cor.T\n",
    "\n",
    "user_sk_pro_cor.to_csv('../data/assistment2009/assisment2009_DMF_input.csv',index=False)"
   ]
  },
  {
   "cell_type": "code",
   "execution_count": null,
   "metadata": {},
   "outputs": [],
   "source": [
    "user_sk_pro_cor0=pd.DataFrame([train['user_id'],train['problem_id'],train['skill_id'],train['correct']])\n",
    "# user_sk_pro_cor0=pd.DataFrame(user_sk_pro_cor0)\n",
    "user_sk_pro_cor0=user_sk_pro_cor0.T\n",
    "\n",
    "user_sk_pro_cor0.to_csv('../data/assistment2009/assisment2009_apriori_input.csv',index=False)"
   ]
  },
  {
   "cell_type": "code",
   "execution_count": null,
   "metadata": {},
   "outputs": [],
   "source": [
    "tmp_list = train['user_id'].unique()\n",
    "user_trace_dict = dict()\n",
    "for i in tmp_list:\n",
    "    user_trace_dict[i] = tuple((list(), list()))\n",
    "nrow = train.shape[0]\n",
    "tmp_user_col = train['user_id']\n",
    "tmp_skill_col = train['skill_id']\n",
    "tmp_correct_col = train['correct']\n",
    "for i in range(nrow):\n",
    "    tmp_user_id = tmp_user_col.iloc[i]\n",
    "    tmp_skill_id = tmp_skill_col.iloc[i]\n",
    "    tmp_correct = tmp_correct_col.iloc[i]\n",
    "    user_trace_dict[tmp_user_id][0].append(tmp_skill_id)\n",
    "    user_trace_dict[tmp_user_id][1].append(tmp_correct)\n",
    "keys = list(user_trace_dict.keys())\n",
    "Reformed_DataFrame = pd.DataFrame(columns=['user_id', 'skill_trace', 'correct_trace'])\n",
    "for uid in tqdm.tqdm(keys):\n",
    "    row = user_trace_dict[uid]\n",
    "        # dic = {'user_id':uid,'skill_trace':str(row[0]),'correct_trace':str(row(1))}\n",
    "    Reformed_DataFrame.loc[Reformed_DataFrame.shape[0] + 1] = {'user_id': uid, 'skill_trace': str(row[0]),\n",
    "                                                                'correct_trace': str(row[1])}\n",
    "        # new = pd.DataFrame([str(uid),str(row[0]),str(row[1])],columns=['user_id','skill_trace','correct_trace'])\n",
    "        # Reformed_DataFrame = Reformed_DataFrame.append(new)\n",
    "#     Reformed_DataFrame.to_csv('../input/data/Assistments/utf-8_data/Reformed_skill_builder_data.csv',\n",
    "#                               index=False)\n",
    "#     print(\"save file\")\n",
    "# # return "
   ]
  },
  {
   "cell_type": "code",
   "execution_count": null,
   "metadata": {},
   "outputs": [],
   "source": [
    "te()"
   ]
  },
  {
   "cell_type": "code",
   "execution_count": null,
   "metadata": {},
   "outputs": [],
   "source": [
    "Reformed_DataFrame.to_csv('../input/data/Assistments/utf-8_data/Reformed_skill_builder_data.csv',\n",
    "                              index=False)"
   ]
  },
  {
   "cell_type": "code",
   "execution_count": null,
   "metadata": {},
   "outputs": [],
   "source": [
    "tmp = pd.read_csv('../input/data/Assistments/utf-8_data/Reformed_skill_builder_data.csv',dtype={'user_id': np.int8, 'skill_trace': str, 'correct_trace': str})"
   ]
  },
  {
   "cell_type": "code",
   "execution_count": null,
   "metadata": {},
   "outputs": [],
   "source": [
    "type(tmp.iloc[0][1])"
   ]
  },
  {
   "cell_type": "code",
   "execution_count": null,
   "metadata": {},
   "outputs": [],
   "source": [
    "train = pd.read_csv('../input/data/Assistments/utf-8_data/skill_builder_data.csv')\n",
    "useful_features = ['user_id', 'skill_id', 'correct']\n",
    "train = train[useful_features]\n",
    "lbcdr = LabelEncoder()\n",
    "lbcdr.fit(train['user_id'])\n",
    "train['user_id'] = lbcdr.transform(train['user_id'])\n",
    "train['skill_id'] = train['skill_id'].fillna(-1)\n",
    "lbcdr.fit(train['skill_id'])\n",
    "train['skill_id'] = lbcdr.transform(train['skill_id'])\n",
    "tmp_list = train['user_id'].unique()\n",
    "user_trace_dict = dict()\n",
    "for i in tmp_list:\n",
    "    user_trace_dict[i] = tuple((list(), list()))\n",
    "nrow = train.shape[0]\n",
    "tmp_user_col = train['user_id']\n",
    "tmp_skill_col = train['skill_id']\n",
    "tmp_correct_col = train['correct']\n",
    "for i in range(nrow):\n",
    "    tmp_user_id = tmp_user_col.iloc[i]\n",
    "    tmp_skill_id = tmp_skill_col.iloc[i]\n",
    "    tmp_correct = tmp_correct_col.iloc[i]\n",
    "    user_trace_dict[tmp_user_id][0].append(tmp_skill_id)\n",
    "    user_trace_dict[tmp_user_id][1].append(tmp_correct)\n",
    "keys = list(user_trace_dict.keys())\n",
    "Reformed_DataFrame = pd.DataFrame(columns=['user_id', 'skill_trace', 'correct_trace'])\n",
    "for uid in tqdm.tqdm(keys):\n",
    "    row = user_trace_dict[uid]\n",
    "    # dic = {'user_id':uid,'skill_trace':str(row[0]),'correct_trace':str(row(1))}\n",
    "    Reformed_DataFrame.loc[Reformed_DataFrame.shape[0] + 1] = {'user_id': uid, 'skill_trace': str(row[0]),\n",
    "                                                               'correct_trace': str(row[1])}\n",
    "    # new = pd.DataFrame([str(uid),str(row[0]),str(row[1])],columns=['user_id','skill_trace','correct_trace'])\n",
    "    # Reformed_DataFrame = Reformed_DataFrame.append(new)"
   ]
  },
  {
   "cell_type": "code",
   "execution_count": null,
   "metadata": {},
   "outputs": [],
   "source": [
    "train = pd.read_csv('../input/data/Assistments/utf-8_data/skill_builder_data.csv')\n",
    "useful_features = ['order_id','user_id', 'skill_id', 'correct']\n",
    "train = train[useful_features]"
   ]
  },
  {
   "cell_type": "code",
   "execution_count": null,
   "metadata": {
    "scrolled": true
   },
   "outputs": [],
   "source": [
    "train[train['user_id']==96299]"
   ]
  },
  {
   "cell_type": "code",
   "execution_count": null,
   "metadata": {},
   "outputs": [],
   "source": []
  }
 ],
 "metadata": {
  "kernelspec": {
   "display_name": "Python 3.7.11 ('py3.7')",
   "language": "python",
   "name": "python3"
  },
  "language_info": {
   "codemirror_mode": {
    "name": "ipython",
    "version": 3
   },
   "file_extension": ".py",
   "mimetype": "text/x-python",
   "name": "python",
   "nbconvert_exporter": "python",
   "pygments_lexer": "ipython3",
   "version": "3.7.11"
  },
  "vscode": {
   "interpreter": {
    "hash": "eda8d4e8ec5d995ac7f6ec7bc64f13839b1e68f65e54dfe9ccfe00cc3d457174"
   }
  }
 },
 "nbformat": 4,
 "nbformat_minor": 1
}
